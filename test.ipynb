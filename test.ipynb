{
 "cells": [
  {
   "cell_type": "code",
   "execution_count": 1,
   "metadata": {},
   "outputs": [
    {
     "name": "stderr",
     "output_type": "stream",
     "text": [
      "ggml_init_cublas: GGML_CUDA_FORCE_MMQ:   no\n",
      "ggml_init_cublas: CUDA_USE_TENSOR_CORES: yes\n",
      "ggml_init_cublas: found 1 CUDA devices:\n",
      "  Device 0: NVIDIA GeForce RTX 4080, compute capability 8.9, VMM: yes\n"
     ]
    }
   ],
   "source": [
    "from llama_cpp import Llama\n",
    "# 모델은 한번만 선언할 것 (GPU 계속 먹음)\n",
    "llm = Llama(model_path=\"./llama.cpp/models/ldcc-solar-10.7b-finetuned.Q5_K_M.gguf\",\n",
    "            n_gpu_layers=30,\n",
    "            n_ctx=3584,\n",
    "            n_batch=521,\n",
    "            verbose=False\n",
    "            )"
   ]
  },
  {
   "cell_type": "code",
   "execution_count": 4,
   "metadata": {},
   "outputs": [
    {
     "name": "stdout",
     "output_type": "stream",
     "text": [
      "\n",
      "도배지 내부에  있는  공기가  도배지가  팽 창하면서  생성되는  현상을  도배지 자습이라고  합니다 . 도배지 자습이 발생하는  원인  - 책임소재  - 해결방법 에 대해 설명드리겠습니다 . 1. 공간  내 높 은 습도 원인  : 습도가  높으면  도배지의  표면 및 내부 공기에  스며들어  팽 창하게  됩니다 . 책임소재  : 건물의  소유자나  거주자 가 습기 관리 의 책임 이 있습니다 . 해결 방법  : 제습기 가동이나  환기를  통해 실내 적정 습도를  유지하고 , 전문가 의 도움을  받아  보수  작업 을 하는  것이  좋습니다 . 2. 내외부 온도의  극 한 차이 원인  : 내외부의  심한  온도 차로  결로가  생기면서  도배지 자습을  일으킬  수 있습니다 . 책임소재  : 건물의  소유자나  거주자 가 온도 관리 에 책임 이 있습니다 . 해결 방법  : 냉 열기를  가동하여  내외부의  온도차를  줄이고 , 습기를  제거하며 , 팽 창된 도배지를  마사지하여  원래 상태 로 돌려놓 는 것이  좋습니다 . 3. 누수 원인  : 누수로  도배지가  젖 어 있는  상태 가 지속되면  자습이 발생 할 수 있습니다 . 책임소재  : 건물의  소유자나  거주자 가 책임 이 있습니다 . 해결 방법  : 보수  작업으로  누수를  제거하고 , 건조 후에  오버 래핑  작업 을 통해 도배지를  복원해야  합니다 . 해당 작업 은 개인 이 하기  어려우니 전문가 의 도움을  받는  것이  좋습니다 .\n",
      "CPU times: user 11min 50s, sys: 5.92 s, total: 11min 56s\n",
      "Wall time: 1min 24s\n"
     ]
    }
   ],
   "source": [
    "%%time\n",
    "instruction = \"Please answer kindly.\"\n",
    "input_text = \"도배지에 녹은 자국이 발생하는 주된 원인과 그 해결 방법은 무엇인가요?\"\n",
    "prompt= f\"\"\"Below is an instruction that describes a task, paired with an input that provides further context. Write a response that appropriately completes the request.\\n\\n### Instruction:\\n{instruction}\\n\\n### Input:\\n{input_text}\\n\\n### Response:\"\"\"\n",
    "output = llm(prompt,\n",
    "             max_tokens=2048,\n",
    "             stop=[\"### Response:\"])\n",
    "print(output['choices'][0]['text'])"
   ]
  }
 ],
 "metadata": {
  "kernelspec": {
   "display_name": "cpp",
   "language": "python",
   "name": "python3"
  },
  "language_info": {
   "codemirror_mode": {
    "name": "ipython",
    "version": 3
   },
   "file_extension": ".py",
   "mimetype": "text/x-python",
   "name": "python",
   "nbconvert_exporter": "python",
   "pygments_lexer": "ipython3",
   "version": "3.10.13"
  }
 },
 "nbformat": 4,
 "nbformat_minor": 2
}
